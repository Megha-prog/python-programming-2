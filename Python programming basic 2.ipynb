{
 "cells": [
  {
   "cell_type": "code",
   "execution_count": null,
   "metadata": {},
   "outputs": [],
   "source": [
    "#converting killometer into miles \n",
    "#killometer *0.6213 = miles\n",
    "\n",
    "killometer=float(input('enter value'))\n",
    "\n",
    "miles= killometer * 0.621371\n",
    "\n",
    "\n",
    "print(killometer,miles)\n"
   ]
  },
  {
   "cell_type": "code",
   "execution_count": null,
   "metadata": {},
   "outputs": [],
   "source": [
    "#Celcisus into Farneheiht  c=f-32/1.8\n",
    "C= float(input('enter value'))\n",
    "\n",
    "F=  (C *1.8) +32\n",
    "print(F)"
   ]
  },
  {
   "cell_type": "code",
   "execution_count": null,
   "metadata": {},
   "outputs": [],
   "source": [
    "#display calander\n",
    "\n",
    "import calendar\n",
    "\n",
    "yy= 2020\n",
    "mm=1\n",
    "yy = int(input('enter year'))\n",
    "mm= int(input('enter month'))\n",
    " \n",
    "print(calendar.month(yy,mm))\n"
   ]
  },
  {
   "cell_type": "code",
   "execution_count": 11,
   "metadata": {},
   "outputs": [
    {
     "name": "stdout",
     "output_type": "stream",
     "text": [
      "30\n",
      "20\n"
     ]
    }
   ],
   "source": [
    "#swap without temp variable\n",
    "a=20\n",
    "b=30\n",
    "a,b=b,a\n",
    "print(a)\n",
    "print(b)"
   ]
  },
  {
   "cell_type": "code",
   "execution_count": 10,
   "metadata": {},
   "outputs": [
    {
     "name": "stdout",
     "output_type": "stream",
     "text": [
      "The solution are (-3+0j) and (-2+0j)\n"
     ]
    }
   ],
   "source": [
    "#solve quadratic equation?\n",
    "#for this we have to call complex math module\n",
    "\n",
    "import cmath\n",
    "\n",
    "a=1\n",
    "b=5\n",
    "c=6\n",
    "\n",
    "d= (b**2) - (4*a*c)\n",
    "\n",
    "sol1=(-b - cmath.sqrt(d))/(2*a)\n",
    "\n",
    "sol2=(-b + cmath.sqrt(d))/(2*a)\n",
    "\n",
    "print('The solution are {0} and {1}'.format(sol1,sol2))\n"
   ]
  },
  {
   "cell_type": "code",
   "execution_count": null,
   "metadata": {},
   "outputs": [],
   "source": []
  }
 ],
 "metadata": {
  "kernelspec": {
   "display_name": "Python 3",
   "language": "python",
   "name": "python3"
  },
  "language_info": {
   "codemirror_mode": {
    "name": "ipython",
    "version": 3
   },
   "file_extension": ".py",
   "mimetype": "text/x-python",
   "name": "python",
   "nbconvert_exporter": "python",
   "pygments_lexer": "ipython3",
   "version": "3.7.1"
  }
 },
 "nbformat": 4,
 "nbformat_minor": 2
}
